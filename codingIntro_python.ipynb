{
 "cells": [
  {
   "cell_type": "markdown",
   "id": "b2f22aee",
   "metadata": {},
   "source": [
    "# Intro: Coding basics\n",
    "\n",
    "Let's learn how to code! First, we'll look at the basics. Then, we'll see how to use these basics in practice. "
   ]
  },
  {
   "cell_type": "markdown",
   "id": "f8e489aa",
   "metadata": {
    "vscode": {
     "languageId": "plaintext"
    }
   },
   "source": [
    "## Variables \n",
    "\n",
    "A variable is a box for storing numbers and other data. "
   ]
  },
  {
   "cell_type": "code",
   "execution_count": 1,
   "id": "3f8bdd9a",
   "metadata": {},
   "outputs": [
    {
     "name": "stdout",
     "output_type": "stream",
     "text": [
      "5\n"
     ]
    }
   ],
   "source": [
    "# Step 1: first variable! \n",
    "x = 5 \n",
    "print(x)\n",
    "# Challenge: Change the value of x to something else (like 10 or 1000).\n",
    "# Then run the code again. What happens?"
   ]
  },
  {
   "cell_type": "code",
   "execution_count": 2,
   "id": "9dbb4ded",
   "metadata": {},
   "outputs": [
    {
     "name": "stdout",
     "output_type": "stream",
     "text": [
      "7\n"
     ]
    }
   ],
   "source": [
    "# Step 2: change the variable\n",
    "x = 5 \n",
    "x = 7\n",
    "print(x)\n",
    "# Add a new variable called y and set it to any number you like. Then print it."
   ]
  },
  {
   "cell_type": "code",
   "execution_count": 3,
   "id": "c40ea2df",
   "metadata": {},
   "outputs": [
    {
     "name": "stdout",
     "output_type": "stream",
     "text": [
      "9\n"
     ]
    }
   ],
   "source": [
    "# Step 3: doing maths with variables\n",
    "a = 5 \n",
    "b = 4 \n",
    "c = a + b\n",
    "print(c)\n",
    "# Try changing the values of a and b\n",
    "# What happens to c? Try subtraction or multiplication too."
   ]
  },
  {
   "cell_type": "code",
   "execution_count": 4,
   "id": "d555411f",
   "metadata": {},
   "outputs": [
    {
     "name": "stdout",
     "output_type": "stream",
     "text": [
      "10\n"
     ]
    }
   ],
   "source": [
    "# Step 4: doing more maths! \n",
    "x = 5\n",
    "y = 2 * x\n",
    "print(y)\n",
    "# Try changing the values of a and b.\n",
    "# What happens to c? Try subtraction or multiplication too."
   ]
  },
  {
   "cell_type": "code",
   "execution_count": 5,
   "id": "c26168e4",
   "metadata": {},
   "outputs": [
    {
     "name": "stdout",
     "output_type": "stream",
     "text": [
      "Hello James\n"
     ]
    }
   ],
   "source": [
    "# Step 5: variables can not just hold numbers, but also text \n",
    "name = \"James\"\n",
    "print(\"Hello \" + name)\n",
    "# Change the name to your own name.\n",
    "# Add another line that says \"Welcome to coding, [your name]!\""
   ]
  },
  {
   "cell_type": "markdown",
   "id": "554b72dc",
   "metadata": {},
   "source": [
    "## 2. Lists and loops\n",
    "\n",
    "A list is a variable that holds multiple values."
   ]
  },
  {
   "cell_type": "code",
   "execution_count": 6,
   "id": "7b8671bd",
   "metadata": {},
   "outputs": [
    {
     "name": "stdout",
     "output_type": "stream",
     "text": [
      "Numbers: [1, 2, 3, 4]\n"
     ]
    }
   ],
   "source": [
    "# First list! \n",
    "numbers = [1, 2, 3, 4]\n",
    "print(\"Numbers:\", numbers)\n",
    "\n",
    "# Challenge: Add another number to the list. What happens when you run the code?"
   ]
  },
  {
   "cell_type": "code",
   "execution_count": 7,
   "id": "3ea9c5ca",
   "metadata": {},
   "outputs": [
    {
     "name": "stdout",
     "output_type": "stream",
     "text": [
      "First number is: 1\n",
      "Second number is: 2\n"
     ]
    }
   ],
   "source": [
    "# You can get items out of a list using square brackets.\n",
    "print(\"First number is:\", numbers[0])\n",
    "print(\"Second number is:\", numbers[1])\n",
    "\n",
    "# Print the third number in the list. (Remember, counting starts at 0)\n",
    "# Also print the fourth number "
   ]
  },
  {
   "cell_type": "code",
   "execution_count": 8,
   "id": "613278b2",
   "metadata": {},
   "outputs": [
    {
     "name": "stdout",
     "output_type": "stream",
     "text": [
      "I found: 1\n",
      "I found: 2\n",
      "I found: 3\n",
      "I found: 4\n"
     ]
    }
   ],
   "source": [
    "# A for loop repeats the same thing for every item in the list\n",
    "# This is very useful if the list is long\n",
    "for n in numbers: \n",
    "    print(\"I found:\", n)\n",
    "\n",
    "# Try printing double each number in the list."
   ]
  },
  {
   "cell_type": "markdown",
   "id": "656bbd9a",
   "metadata": {},
   "source": [
    "# If statements\n",
    "\n",
    "If statements make decisions. They allow you to run code only if a statement is true. "
   ]
  },
  {
   "cell_type": "code",
   "execution_count": 9,
   "id": "c687f8dc",
   "metadata": {},
   "outputs": [],
   "source": [
    "# First if statement!\n",
    "x = 2\n",
    "\n",
    "if x > 3:\n",
    "    print(\"x is bigger than 3!\")\n",
    "\n",
    "# Change x to a smaller number (like 2). What happens? Try x = 10."
   ]
  },
  {
   "cell_type": "code",
   "execution_count": 10,
   "id": "c7dcfca3",
   "metadata": {},
   "outputs": [
    {
     "name": "stdout",
     "output_type": "stream",
     "text": [
      "x is bigger than 3!\n"
     ]
    }
   ],
   "source": [
    "# Add an \"else\" \n",
    "x = 5\n",
    "\n",
    "if x > 3:\n",
    "    print(\"x is bigger than 3!\")\n",
    "else:\n",
    "    print(\"x is not bigger than 3!\")\n",
    "\n",
    "# What happens now if you x to a smaller number?"
   ]
  },
  {
   "cell_type": "markdown",
   "id": "cf29699f",
   "metadata": {},
   "source": [
    "# Functions\n",
    "\n",
    "A function is a block of code that does something. You can give it inputs, and it can give you an output."
   ]
  },
  {
   "cell_type": "code",
   "execution_count": 11,
   "id": "002ae27f",
   "metadata": {},
   "outputs": [
    {
     "name": "stdout",
     "output_type": "stream",
     "text": [
      "Hello, world!\n"
     ]
    }
   ],
   "source": [
    "# First function! \n",
    "def say_hello():\n",
    "    print(\"Hello, world!\")\n",
    "\n",
    "say_hello()\n",
    "\n",
    "# Challenge: write a function that says your name"
   ]
  },
  {
   "cell_type": "code",
   "execution_count": 12,
   "id": "f8b657df",
   "metadata": {},
   "outputs": [
    {
     "name": "stdout",
     "output_type": "stream",
     "text": [
      "Hello, James!\n"
     ]
    }
   ],
   "source": [
    "# Function with an input! This makes it flexible \n",
    "def greet(name):\n",
    "    print(\"Hello, \" + name + \"!\")\n",
    "\n",
    "greet(\"James\")\n",
    "\n",
    "# Challenge: After saying hello, also ask how the person is doing"
   ]
  },
  {
   "cell_type": "code",
   "execution_count": 13,
   "id": "bf8c732a",
   "metadata": {},
   "outputs": [
    {
     "name": "stdout",
     "output_type": "stream",
     "text": [
      "7\n"
     ]
    }
   ],
   "source": [
    "# A function with an output \n",
    "def add(x, y):\n",
    "    return x + y\n",
    "\n",
    "result = add(3, 4)\n",
    "print(result)\n",
    "\n",
    "# Challenge: write a multiply function"
   ]
  },
  {
   "cell_type": "markdown",
   "id": "08fc3070",
   "metadata": {},
   "source": [
    "# Game of life\n",
    "\n",
    "\n",
    "Let's see everything that we've learned in action! The main code for this is in the script `game_of_life.py`. Here, we'll look at the basic buildings blocks, which use the concepts we just learned (variables, lists, if-statements, functions).\n",
    "\n",
    "The [Game of Life](https://en.wikipedia.org/wiki/Conway%27s_Game_of_Life) contains of a grid of cells. Each cell can be alive (black) or dead (white). "
   ]
  },
  {
   "cell_type": "code",
   "execution_count": 14,
   "id": "6aef0c71",
   "metadata": {},
   "outputs": [
    {
     "name": "stdout",
     "output_type": "stream",
     "text": [
      "[0, 0, 1]\n",
      "[1, 0, 0]\n",
      "[0, 1, 0]\n"
     ]
    }
   ],
   "source": [
    "# We store the grid as a 2D list, like a list of lists:\n",
    "grid = [\n",
    "    [0, 0, 1],  # 0 = dead, 1 = alive\n",
    "    [1, 0, 0],\n",
    "    [0, 1, 0]\n",
    "]\n",
    "\n",
    "def print_grid(grid):\n",
    "    # Print the grid, one row at a time\n",
    "    for row in grid:\n",
    "        print(row)\n",
    "\n",
    "print_grid(grid)"
   ]
  },
  {
   "cell_type": "code",
   "execution_count": 15,
   "id": "f17f7cea",
   "metadata": {},
   "outputs": [
    {
     "data": {
      "text/plain": [
       "3"
      ]
     },
     "execution_count": 15,
     "metadata": {},
     "output_type": "execute_result"
    }
   ],
   "source": [
    "# Cells become dead or alive based on how many of their neighbors are dead/alive.\n",
    "# To play the game, we count the alive neighbors around each cell.\n",
    "\n",
    "def count_live_neighbors(grid, row, col):\n",
    "    count = 0 \n",
    "    for i in [-1,0,1]: # look at neighbors left and right\n",
    "        for j in [-1,0,1]: # look at neighbors up and down\n",
    "            if i == 0 and j == 0: # ignore (0,0): the cell itself\n",
    "                continue\n",
    "            r, c = row + i, col + j # position of the neighbor\n",
    "            if 0 <= r < len(grid) and 0 <= c < len(grid[0]): # if we're not outside \n",
    "                count += grid[r][c] # add +1 if neighbor is +1 (alive)\n",
    "    return count\n",
    "\n",
    "# see this in action\n",
    "count_live_neighbors(grid, 1,1) # check this is correct!"
   ]
  },
  {
   "cell_type": "markdown",
   "id": "bfce7e4c",
   "metadata": {},
   "source": [
    "We count the alive neighbors around each cell. Then apply the rules:\n",
    "\n",
    "* Alive cells die if too few (<2) or too many (>3) neighbors.\n",
    "\n",
    "* Dead cells become alive if exactly 3 neighbors.\n",
    "\n",
    "We make a new grid for the next state (to avoid modifying the grid while checking neighbors).\n",
    "\n",
    "This function is called every frame to update the game."
   ]
  },
  {
   "cell_type": "code",
   "execution_count": 16,
   "id": "51d96dfd",
   "metadata": {},
   "outputs": [
    {
     "name": "stdout",
     "output_type": "stream",
     "text": [
      "Grid:\n",
      "[0, 0, 1]\n",
      "[1, 0, 0]\n",
      "[0, 1, 0]\n",
      "New grid:\n",
      "[0, 0, 0]\n",
      "[0, 1, 0]\n",
      "[0, 0, 0]\n"
     ]
    }
   ],
   "source": [
    "def next_generation(grid):\n",
    "    new_grid = [] # fill this list \n",
    "    # loop over rows and columns \n",
    "    for row in range(len(grid)): \n",
    "        new_row = []\n",
    "        for col in range(len(grid[0])):\n",
    "            live_neighbors = count_live_neighbors(grid, row, col) # use our function\n",
    "            cell = grid[row][col]\n",
    "            if cell == 1: # alive cell\n",
    "                if live_neighbors < 2 or live_neighbors > 3:\n",
    "                    new_row.append(0)\n",
    "                else: \n",
    "                    new_row.append(1)\n",
    "            else: # dead cell\n",
    "                if live_neighbors == 3:\n",
    "                    new_row.append(1)\n",
    "                else:\n",
    "                    new_row.append(0)\n",
    "        new_grid.append(new_row)\n",
    "    return new_grid\n",
    "\n",
    "# Check that the rules are applied correctly:\n",
    "print(\"Grid:\")\n",
    "print_grid(grid)\n",
    "new_grid = next_generation(grid)\n",
    "print(\"New grid:\")\n",
    "print_grid(new_grid)"
   ]
  },
  {
   "cell_type": "markdown",
   "id": "48f4cc95",
   "metadata": {},
   "source": [
    "## Play the game \n",
    "\n",
    "To play, go to the command line and type: \n",
    "`python game_of_life.py` \n",
    "* Try different options, and try to explain what happens. \n",
    "    - `python game_of_life.py block`\n",
    "    - `python game_of_life.py blinker`\n",
    "* Try a more complex pattern!\n",
    "     - `python game_of_life.py beacon`\n",
    "* Type `python game_of_life.py help` to see the other options\n",
    "\n",
    "## Change the game \n",
    "\n",
    "If you have time, do some coding yourself! \n",
    "- Change the size of the grid (line 6)\n",
    "- Change the colors that indicate dead/alive (lines 9,10)\n",
    "- Change the speed of the game (line 246)\n",
    "- In the random pattern, change the probability of being alive (line 151)\n",
    "- Change the rules, for example, make cells survive with 4 neighbors survive (line 212). "
   ]
  }
 ],
 "metadata": {
  "kernelspec": {
   "display_name": "coding",
   "language": "python",
   "name": "python3"
  },
  "language_info": {
   "codemirror_mode": {
    "name": "ipython",
    "version": 3
   },
   "file_extension": ".py",
   "mimetype": "text/x-python",
   "name": "python",
   "nbconvert_exporter": "python",
   "pygments_lexer": "ipython3",
   "version": "3.13.5"
  }
 },
 "nbformat": 4,
 "nbformat_minor": 5
}
