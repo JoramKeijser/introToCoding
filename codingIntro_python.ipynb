{
 "cells": [
  {
   "cell_type": "markdown",
   "id": "b2f22aee",
   "metadata": {},
   "source": [
    "# Intro to coding \n",
    "\n",
    "Let's learn how to code! First, we'll look at the basics. Then, we'll see how to use these basics in practice. "
   ]
  },
  {
   "cell_type": "markdown",
   "id": "f8e489aa",
   "metadata": {
    "vscode": {
     "languageId": "plaintext"
    }
   },
   "source": [
    "## Variables \n",
    "\n",
    "A variable is a box for storing numbers and other data. "
   ]
  },
  {
   "cell_type": "code",
   "execution_count": null,
   "id": "3f8bdd9a",
   "metadata": {},
   "outputs": [],
   "source": [
    "# Step 1: first variable! \n",
    "x = 5 \n",
    "print(x)\n",
    "# Challenge: Change the value of x to something else (like 10 or 1000).\n",
    "# Then run the code again. What happens?"
   ]
  },
  {
   "cell_type": "code",
   "execution_count": null,
   "id": "9dbb4ded",
   "metadata": {},
   "outputs": [],
   "source": [
    "# Step 2: change the variable\n",
    "x = 5 \n",
    "x = 7\n",
    "print(x)\n",
    "# Add a new variable called y and set it to any number you like. Then print it."
   ]
  },
  {
   "cell_type": "code",
   "execution_count": null,
   "id": "c40ea2df",
   "metadata": {},
   "outputs": [],
   "source": [
    "# Step 3: doing maths with variables\n",
    "a = 5 \n",
    "b = 4 \n",
    "c = a + b\n",
    "print(c)\n",
    "# Try changing the values of a and b\n",
    "# What happens to c? Try subtraction or multiplication too."
   ]
  },
  {
   "cell_type": "code",
   "execution_count": null,
   "id": "d555411f",
   "metadata": {},
   "outputs": [],
   "source": [
    "# Step 4: doing more maths! \n",
    "a = 5\n",
    "b = 2 * a\n",
    "print(b)\n",
    "# Try changing the values of a and b.\n",
    "# What happens to c? Try subtraction or multiplication too."
   ]
  },
  {
   "cell_type": "code",
   "execution_count": null,
   "id": "c26168e4",
   "metadata": {},
   "outputs": [],
   "source": [
    "# Step 5: variables can not just hold numbers, but also text \n",
    "name = \"James\"\n",
    "print(\"Hello \" + name)\n",
    "# Change the name to your own name.\n",
    "# Add another line that says \"Welcome to coding, [your name]!\""
   ]
  },
  {
   "cell_type": "markdown",
   "id": "554b72dc",
   "metadata": {},
   "source": [
    "## 2. Lists and loops\n",
    "\n",
    "A list is a variable that holds multiple values."
   ]
  },
  {
   "cell_type": "code",
   "execution_count": null,
   "id": "7b8671bd",
   "metadata": {},
   "outputs": [],
   "source": [
    "# First list! \n",
    "numbers = [1, 2, 3, 4]\n",
    "print(\"Numbers:\", numbers)\n",
    "\n",
    "# Challenge: Add another number to the list using list.append(number). What happens when you run the code?"
   ]
  },
  {
   "cell_type": "code",
   "execution_count": null,
   "id": "3ea9c5ca",
   "metadata": {},
   "outputs": [],
   "source": [
    "# You can get items out of a list using square brackets.\n",
    "print(\"First number is:\", numbers[0])\n",
    "print(\"Second number is:\", numbers[1])\n",
    "\n",
    "# Print the third number in the list. (Remember, counting starts at 0)\n",
    "# Also print the fourth number "
   ]
  },
  {
   "cell_type": "code",
   "execution_count": null,
   "id": "613278b2",
   "metadata": {},
   "outputs": [],
   "source": [
    "# A for loop repeats the same thing for every item in the list\n",
    "# This is very useful if the list is long\n",
    "for n in numbers: \n",
    "    print(\"I found:\", n)\n",
    "\n",
    "# Try printing double each number in the list."
   ]
  },
  {
   "cell_type": "markdown",
   "id": "656bbd9a",
   "metadata": {},
   "source": [
    "# If statements\n",
    "\n",
    "If statements make decisions. They allow you to run code only if a statement is true. "
   ]
  },
  {
   "cell_type": "code",
   "execution_count": null,
   "id": "c687f8dc",
   "metadata": {},
   "outputs": [],
   "source": [
    "# First if statement!\n",
    "x = 5\n",
    "\n",
    "if x > 3:\n",
    "    print(\"x is bigger than 3!\")\n",
    "\n",
    "# Change x to a smaller number (like 2). What happens? "
   ]
  },
  {
   "cell_type": "code",
   "execution_count": null,
   "id": "c7dcfca3",
   "metadata": {},
   "outputs": [],
   "source": [
    "# Add an \"else\" \n",
    "x = 5\n",
    "\n",
    "if x > 3:\n",
    "    print(\"x is bigger than 3!\")\n",
    "else:\n",
    "    print(\"x is not bigger than 3!\")\n",
    "\n",
    "# What happens now if you x to a smaller number?"
   ]
  },
  {
   "cell_type": "code",
   "execution_count": null,
   "id": "210afdaf",
   "metadata": {},
   "outputs": [],
   "source": [
    "x = 0 \n",
    "while x < 3:\n",
    "    print(x, \"is smaller than 3\")\n",
    "    x += 1 # same as x = x + 1 \n",
    "\n",
    "# What will x be?"
   ]
  },
  {
   "cell_type": "markdown",
   "id": "cf29699f",
   "metadata": {},
   "source": [
    "# Functions\n",
    "\n",
    "A function is a block of code that does something. You can give it inputs, and it can give you an output."
   ]
  },
  {
   "cell_type": "code",
   "execution_count": null,
   "id": "002ae27f",
   "metadata": {},
   "outputs": [],
   "source": [
    "# First function! \n",
    "def say_hello():\n",
    "    print(\"Hello, world!\")\n",
    "\n",
    "say_hello()\n",
    "\n",
    "# Challenge: write a function that says your name"
   ]
  },
  {
   "cell_type": "code",
   "execution_count": null,
   "id": "f8b657df",
   "metadata": {},
   "outputs": [],
   "source": [
    "# Function with an input! This makes it flexible \n",
    "def greet(name):\n",
    "    print(\"Hello, \" + name + \"!\")\n",
    "\n",
    "greet(\"James\")\n",
    "\n",
    "# Challenge: After saying hello, also ask how the person is doing"
   ]
  },
  {
   "cell_type": "code",
   "execution_count": null,
   "id": "bf8c732a",
   "metadata": {},
   "outputs": [],
   "source": [
    "# A function with an output \n",
    "def add(x, y):\n",
    "    return x + y\n",
    "\n",
    "result = add(3, 4)\n",
    "print(result)\n",
    "\n",
    "# Challenge: write a multiply function"
   ]
  },
  {
   "cell_type": "markdown",
   "id": "08fc3070",
   "metadata": {},
   "source": [
    "# Game of life\n",
    "\n",
    "\n",
    "Let's see everything that we've learned in action! The main code for this is in the script `game_of_life.py`. Here, we'll look at the basic buildings blocks, which use the concepts we just learned (variables, lists, if-statements, functions).\n",
    "\n",
    "The [Game of Life](https://en.wikipedia.org/wiki/Conway%27s_Game_of_Life) contains of a grid of cells. Each cell can be alive (black) or dead (white). "
   ]
  },
  {
   "cell_type": "code",
   "execution_count": null,
   "id": "6aef0c71",
   "metadata": {},
   "outputs": [],
   "source": [
    "# We store the grid as a 2D list, like a list of lists:\n",
    "grid = [\n",
    "    [0, 0, 1],  # 0 = dead, 1 = alive\n",
    "    [1, 0, 0],\n",
    "    [0, 1, 0]\n",
    "]\n",
    "\n",
    "def print_grid(grid):\n",
    "    # Print the grid, one row at a time\n",
    "    for row in grid:\n",
    "        print(row)\n",
    "\n",
    "print_grid(grid)"
   ]
  },
  {
   "cell_type": "code",
   "execution_count": null,
   "id": "46506a80",
   "metadata": {},
   "outputs": [],
   "source": [
    "# Accessing or \"indexing\" elements of the grid is done like this:\n",
    "print(grid[0]) # first row\n",
    "print(grid[1][0]) # first column of second row"
   ]
  },
  {
   "cell_type": "code",
   "execution_count": null,
   "id": "f17f7cea",
   "metadata": {},
   "outputs": [],
   "source": [
    "# Cells become dead or alive based on how many of their neighbors are dead/alive.\n",
    "# To play the game, we count the alive neighbors around each cell.\n",
    "\n",
    "def count_live_neighbors(grid, row, col):\n",
    "    count = 0 \n",
    "    for i in [-1,0,1]: # look at neighbors left and right\n",
    "        for j in [-1,0,1]: # look at neighbors up and down\n",
    "            if i == 0 and j == 0: # ignore (0,0): the cell itself\n",
    "                continue\n",
    "            r, c = row + i, col + j # position of the neighbor\n",
    "            if 0 <= r < len(grid) and 0 <= c < len(grid[0]): # if we're not outside \n",
    "                count += grid[r][c] # add +1 if neighbor is +1 (alive)\n",
    "    return count\n",
    "\n",
    "# see this in action\n",
    "count_live_neighbors(grid, 1,1) # check this is correct!"
   ]
  },
  {
   "cell_type": "markdown",
   "id": "bfce7e4c",
   "metadata": {},
   "source": [
    "We count the alive neighbors around each cell. Then apply the rules:\n",
    "\n",
    "* Alive cells die if too few (<2) or too many (>3) neighbors.\n",
    "\n",
    "* Dead cells become alive if exactly 3 neighbors.\n",
    "\n",
    "We make a new grid for the next state (to avoid modifying the grid while checking neighbors).\n",
    "\n",
    "This function is called every frame to update the game."
   ]
  },
  {
   "cell_type": "code",
   "execution_count": null,
   "id": "51d96dfd",
   "metadata": {},
   "outputs": [],
   "source": [
    "def next_generation(grid):\n",
    "    new_grid = [] # fill this list \n",
    "    # loop over rows and columns \n",
    "    for row in range(len(grid)): \n",
    "        new_row = []\n",
    "        for col in range(len(grid[0])):\n",
    "            live_neighbors = count_live_neighbors(grid, row, col) # use our function\n",
    "            cell = grid[row][col]\n",
    "            if cell == 1: # alive cell\n",
    "                if live_neighbors < 2 or live_neighbors > 3:\n",
    "                    new_row.append(0)\n",
    "                else: \n",
    "                    new_row.append(1)\n",
    "            else: # dead cell\n",
    "                if live_neighbors == 3:\n",
    "                    new_row.append(1)\n",
    "                else:\n",
    "                    new_row.append(0)\n",
    "        new_grid.append(new_row)\n",
    "    return new_grid\n",
    "\n",
    "# Check that the rules are applied correctly:\n",
    "print(\"Grid:\")\n",
    "print_grid(grid)\n",
    "new_grid = next_generation(grid)\n",
    "print(\"New grid:\")\n",
    "print_grid(new_grid)"
   ]
  },
  {
   "cell_type": "markdown",
   "id": "48f4cc95",
   "metadata": {},
   "source": [
    "## Play the game \n",
    "\n",
    "To play, run the `game_of_life.py` script from the following cell, or from the command line (`python game_of_life.py`)"
   ]
  },
  {
   "cell_type": "code",
   "execution_count": null,
   "id": "2b249268",
   "metadata": {},
   "outputs": [],
   "source": [
    "%run game_of_life.py"
   ]
  },
  {
   "cell_type": "markdown",
   "id": "08ce6e05",
   "metadata": {},
   "source": [
    "The game can be run starting from different initial patterns (living & death cells). Let's try a few"
   ]
  },
  {
   "cell_type": "code",
   "execution_count": null,
   "id": "d82b3a69",
   "metadata": {},
   "outputs": [],
   "source": [
    "# Can you explain what happens with this initial pattern?\n",
    "%run game_of_life.py block"
   ]
  },
  {
   "cell_type": "code",
   "execution_count": null,
   "id": "370a87a2",
   "metadata": {},
   "outputs": [],
   "source": [
    "# what about this one?\n",
    "%run game_of_life.py blinker"
   ]
  },
  {
   "cell_type": "code",
   "execution_count": null,
   "id": "7fd76472",
   "metadata": {},
   "outputs": [],
   "source": [
    "# A more complex, random, pattern:\n",
    "%run game_of_life.py random"
   ]
  },
  {
   "cell_type": "code",
   "execution_count": null,
   "id": "f29baece",
   "metadata": {},
   "outputs": [],
   "source": [
    "# Check out the available patterns with the help option\n",
    "%run game_of_life.py help"
   ]
  },
  {
   "cell_type": "markdown",
   "id": "20e5e2ca",
   "metadata": {},
   "source": [
    "\n",
    "## Change the game \n",
    "\n",
    "If you have time, do some coding yourself! \n",
    "- Change the size of the grid (line 10)\n",
    "- Change the colors that indicate dead/alive (lines 14, 15)\n",
    "- Change the speed of the game (line 248)\n",
    "- In the random pattern, change the probability of being alive (line 153)\n",
    "- Change the rules, for example, make cells survive with 4 neighbors survive (line 201). "
   ]
  }
 ],
 "metadata": {
  "kernelspec": {
   "display_name": "coding",
   "language": "python",
   "name": "python3"
  },
  "language_info": {
   "codemirror_mode": {
    "name": "ipython",
    "version": 3
   },
   "file_extension": ".py",
   "mimetype": "text/x-python",
   "name": "python",
   "nbconvert_exporter": "python",
   "pygments_lexer": "ipython3",
   "version": "3.13.5"
  }
 },
 "nbformat": 4,
 "nbformat_minor": 5
}
